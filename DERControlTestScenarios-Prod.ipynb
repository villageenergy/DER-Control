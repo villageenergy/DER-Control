{
 "cells": [
  {
   "cell_type": "code",
   "execution_count": 16,
   "metadata": {},
   "outputs": [],
   "source": [
    "import pandas as pd\n",
    "import matplotlib.pyplot as plt\n",
    "import numpy as np\n",
    "from boto3.session import Session\n",
    "from io import StringIO\n",
    "import random, boto3, pprint, datetime, sagemaker, time, ast\n",
    "import timeit"
   ]
  },
  {
   "cell_type": "code",
   "execution_count": 17,
   "metadata": {},
   "outputs": [
    {
     "name": "stdout",
     "output_type": "stream",
     "text": [
      "checking...\n"
     ]
    }
   ],
   "source": [
    "print (\"checking...\")"
   ]
  },
  {
   "cell_type": "code",
   "execution_count": 18,
   "metadata": {},
   "outputs": [],
   "source": [
    "bucketName = 'testsmdata2'\n",
    "prefix = 'DERTestData/'"
   ]
  },
  {
   "cell_type": "code",
   "execution_count": 19,
   "metadata": {},
   "outputs": [
    {
     "data": {
      "text/plain": [
       "'arn:aws:iam::440616111601:role/service-role/AmazonSageMaker-ExecutionRole-20200522T141912'"
      ]
     },
     "execution_count": 19,
     "metadata": {},
     "output_type": "execute_result"
    }
   ],
   "source": [
    "sagemaker_session = sagemaker.Session()\n",
    "role = sagemaker.get_execution_role()\n",
    "role"
   ]
  },
  {
   "cell_type": "code",
   "execution_count": 4,
   "metadata": {},
   "outputs": [],
   "source": [
    "def write_df_to_csv(bkt, prefix, f_name, df):\n",
    "\n",
    "    \"\"\"\n",
    "    Writes the results on s3\n",
    "    \"\"\"\n",
    "\n",
    "    path='{}{}'.format(prefix,f_name)\n",
    "    print(f'{path}\\n')\n",
    "\n",
    "    csv_buffer = StringIO()\n",
    "    df.to_csv(csv_buffer, index=False)\n",
    "\n",
    "    s3_resource = boto3.client('s3')\n",
    "    s3_resource.put_object(Body=csv_buffer.getvalue(), Bucket=bkt,\n",
    "                           Key=path)"
   ]
  },
  {
   "cell_type": "code",
   "execution_count": 5,
   "metadata": {},
   "outputs": [],
   "source": [
    "def readStreamData():\n",
    "    client = boto3.client('kinesis')\n",
    "\n",
    "    shard_id = 'shardId-000000000000' #we only have one shard!\n",
    "    shard_it = client.get_shard_iterator(StreamName=\"representativeDERResultStream\", ShardId=shard_id, ShardIteratorType=\"LATEST\")[\"ShardIterator\"]\n",
    "    #shard_it = client.get_shard_iterator(StreamName=\"Veda5sMessage\", ShardId=shard_id, ShardIteratorType=\"LATEST\")[\"ShardIterator\"]\n",
    "    print('Waiting for data from DER ...')\n",
    "\n",
    "    records = []\n",
    "    while len(records) == 0:\n",
    "        out = client.get_records(ShardIterator=shard_it, Limit=2)\n",
    "        shard_it = out[\"NextShardIterator\"]\n",
    "        records = out['Records']\n",
    "        #print (records);\n",
    "        time.sleep(1)\n",
    "\n",
    "    #print(records)\n",
    "    recordDER = records[0]\n",
    "    recordNetwork = records[1]\n",
    "    #print('\\n', recordDER, '\\n', recordNetwork )\n",
    "    print('Data is ready ...')\n",
    "    return recordDER, recordNetwork"
   ]
  },
  {
   "cell_type": "code",
   "execution_count": 6,
   "metadata": {},
   "outputs": [],
   "source": [
    "def binary2Dict(record):\n",
    "\n",
    "    byte_str = record['Data']\n",
    "    dict_str = byte_str.decode(\"UTF-8\")\n",
    "    data = ast.literal_eval(dict_str)\n",
    "    return data"
   ]
  },
  {
   "cell_type": "code",
   "execution_count": 7,
   "metadata": {},
   "outputs": [],
   "source": [
    "def filterRecords(Networkdata, DERdata):\n",
    "    Networkrecords = {}\n",
    "    for key in Networkdata.keys():\n",
    "        #print(key)\n",
    "        Networkrecords[key] = Networkdata[key]\n",
    "    #print(Networkrecords)    \n",
    "\n",
    "    Networkrecords.pop('DERstd10Sec', None)\n",
    "    Networkrecords.pop('DERstd30Sec', None)\n",
    "    Networkrecords.pop('DERstd1Min', None)\n",
    "    Networkrecords.pop('DERstd2Min', None)\n",
    "    Networkrecords.pop('DERstd5Min', None)\n",
    "\n",
    "    Networkrecords.pop('DEREnergy10Sec', None)\n",
    "    Networkrecords.pop('DEREnergy30Sec', None)\n",
    "    Networkrecords.pop('DEREnergy1Min', None)\n",
    "    Networkrecords.pop('DEREnergy2Min', None)\n",
    "    Networkrecords.pop('DEREnergy5Min', None)\n",
    "    #print(Networkrecords)\n",
    "    \n",
    "    DERrecords = {}\n",
    "    for key in DERdata.keys():\n",
    "        #print(key)\n",
    "        DERrecords[key] = DERdata[key]\n",
    "    #print(DERrecords)    \n",
    "    #records['TimeStamp'] = records['ApproximateArrivalTimestamp']\n",
    "\n",
    "    DERrecords.pop('Networkstd10Sec', None)\n",
    "    DERrecords.pop('Networkstd30Sec', None)\n",
    "    DERrecords.pop('Networkstd1Min', None)\n",
    "    DERrecords.pop('Networkstd2Min', None)\n",
    "    DERrecords.pop('Networkstd5Min', None)\n",
    "\n",
    "    DERrecords.pop('networkEnergy10Sec', None)\n",
    "    DERrecords.pop('networkEnergy30Sec', None)\n",
    "    DERrecords.pop('networkEnergy1Min', None)\n",
    "    DERrecords.pop('networkEnergy2Min', None)\n",
    "    DERrecords.pop('networkEnergy5Min', None)\n",
    "    #print(DERrecords)\n",
    "\n",
    "    records = {}\n",
    "    if DERrecords['eventTime'] == Networkrecords['eventTime']:\n",
    "        for key in DERrecords.keys():\n",
    "            records[key] = DERrecords[key]\n",
    "\n",
    "        for key in Networkrecords.keys():\n",
    "            records[key] = Networkrecords[key]\n",
    "    \n",
    "    return records\n",
    "\n",
    "#records = filterRecords(Networkdata, DERdata)\n",
    "#records"
   ]
  },
  {
   "cell_type": "code",
   "execution_count": 8,
   "metadata": {},
   "outputs": [],
   "source": [
    "def finalDataFrame(records, s, t):\n",
    "    df = pd.DataFrame(records, index=[0])\n",
    "    df ['state'] = s\n",
    "    df ['duration'] = t[0]\n",
    "    for timespan in ['10Sec', '30Sec', '1Min', '2Min', '5Min']:\n",
    "    #if (df['networkEnergy' + timespan])!=0:\n",
    "        df['pen' + timespan] = (1.5 * df['DEREnergy' + timespan]) / ((1.5 * df['DEREnergy' + timespan]) + df['networkEnergy' + timespan])\n",
    "    \n",
    "    for timespan in ['10Sec', '30Sec', '1Min', '2Min', '5Min']:\n",
    "        df = df.drop (columns = 'DEREnergy' + timespan)\n",
    "        df = df.drop (columns = 'networkEnergy' + timespan)\n",
    "        \n",
    "    df['eventTime'] = pd.to_datetime(df['eventTime']) + datetime.timedelta(hours = 5, minutes =30)\n",
    "    df['eventTime'] = df['eventTime'].apply(lambda x: x.strftime('%Y%m%dT%H%M%SZ')).astype(str)\n",
    "    \n",
    "    return df"
   ]
  },
  {
   "cell_type": "code",
   "execution_count": 10,
   "metadata": {},
   "outputs": [],
   "source": [
    "N = 2\n",
    "\n",
    "durationTimes = [10, 20, 30, 60, 120]\n",
    "States = [[1, 1, 1, 1], \n",
    "          [0, 1, 1, 1],\n",
    "          [0, 0, 1, 1], \n",
    "          [0, 0, 0, 1]\n",
    "         ]"
   ]
  },
  {
   "cell_type": "code",
   "execution_count": 11,
   "metadata": {},
   "outputs": [
    {
     "data": {
      "text/plain": [
       "([[0, 0, 0, 1]], [30])"
      ]
     },
     "execution_count": 11,
     "metadata": {},
     "output_type": "execute_result"
    }
   ],
   "source": [
    "duration = random.sample(durationTimes, 1)\n",
    "state = random.sample(States, 1)\n",
    "\n",
    "state , duration"
   ]
  },
  {
   "cell_type": "code",
   "execution_count": 12,
   "metadata": {
    "scrolled": false
   },
   "outputs": [
    {
     "name": "stdout",
     "output_type": "stream",
     "text": [
      "Sample Number 1 :\n",
      "State before sampling: [[1, 1, 1, 1]] , [0]\n",
      "Waiting for data from DER ...\n"
     ]
    },
    {
     "ename": "KeyboardInterrupt",
     "evalue": "",
     "output_type": "error",
     "traceback": [
      "\u001b[0;31m---------------------------------------------------------------------------\u001b[0m",
      "\u001b[0;31mKeyboardInterrupt\u001b[0m                         Traceback (most recent call last)",
      "\u001b[0;32m<ipython-input-12-64f29db3b019>\u001b[0m in \u001b[0;36m<module>\u001b[0;34m\u001b[0m\n\u001b[1;32m     14\u001b[0m \u001b[0;34m\u001b[0m\u001b[0m\n\u001b[1;32m     15\u001b[0m         \u001b[0mprint\u001b[0m \u001b[0;34m(\u001b[0m\u001b[0;34mf'State before sampling: {state} , {duration}'\u001b[0m\u001b[0;34m)\u001b[0m\u001b[0;34m\u001b[0m\u001b[0;34m\u001b[0m\u001b[0m\n\u001b[0;32m---> 16\u001b[0;31m         \u001b[0mrecordDER\u001b[0m\u001b[0;34m,\u001b[0m \u001b[0mrecordNetwork\u001b[0m \u001b[0;34m=\u001b[0m \u001b[0mreadStreamData\u001b[0m\u001b[0;34m(\u001b[0m\u001b[0;34m)\u001b[0m\u001b[0;34m\u001b[0m\u001b[0;34m\u001b[0m\u001b[0m\n\u001b[0m\u001b[1;32m     17\u001b[0m \u001b[0;34m\u001b[0m\u001b[0m\n\u001b[1;32m     18\u001b[0m         \u001b[0mDERdata\u001b[0m\u001b[0;34m,\u001b[0m \u001b[0mNetworkdata\u001b[0m \u001b[0;34m=\u001b[0m \u001b[0mbinary2Dict\u001b[0m\u001b[0;34m(\u001b[0m\u001b[0mrecordDER\u001b[0m\u001b[0;34m)\u001b[0m\u001b[0;34m,\u001b[0m \u001b[0mbinary2Dict\u001b[0m\u001b[0;34m(\u001b[0m\u001b[0mrecordNetwork\u001b[0m\u001b[0;34m)\u001b[0m\u001b[0;34m\u001b[0m\u001b[0;34m\u001b[0m\u001b[0m\n",
      "\u001b[0;32m<ipython-input-5-1915fbd02d5d>\u001b[0m in \u001b[0;36mreadStreamData\u001b[0;34m()\u001b[0m\n\u001b[1;32m     13\u001b[0m         \u001b[0mrecords\u001b[0m \u001b[0;34m=\u001b[0m \u001b[0mout\u001b[0m\u001b[0;34m[\u001b[0m\u001b[0;34m'Records'\u001b[0m\u001b[0;34m]\u001b[0m\u001b[0;34m\u001b[0m\u001b[0;34m\u001b[0m\u001b[0m\n\u001b[1;32m     14\u001b[0m         \u001b[0;31m#print (records);\u001b[0m\u001b[0;34m\u001b[0m\u001b[0;34m\u001b[0m\u001b[0;34m\u001b[0m\u001b[0m\n\u001b[0;32m---> 15\u001b[0;31m         \u001b[0mtime\u001b[0m\u001b[0;34m.\u001b[0m\u001b[0msleep\u001b[0m\u001b[0;34m(\u001b[0m\u001b[0;36m1\u001b[0m\u001b[0;34m)\u001b[0m\u001b[0;34m\u001b[0m\u001b[0;34m\u001b[0m\u001b[0m\n\u001b[0m\u001b[1;32m     16\u001b[0m \u001b[0;34m\u001b[0m\u001b[0m\n\u001b[1;32m     17\u001b[0m     \u001b[0;31m#print(records)\u001b[0m\u001b[0;34m\u001b[0m\u001b[0;34m\u001b[0m\u001b[0;34m\u001b[0m\u001b[0m\n",
      "\u001b[0;31mKeyboardInterrupt\u001b[0m: "
     ]
    }
   ],
   "source": [
    "start = timeit.default_timer() \n",
    "\n",
    "state , duration = [[1, 1, 1, 1]] , [0]\n",
    "i = 0\n",
    "dfAll = pd.DataFrame()\n",
    "\n",
    "for i in range (N):\n",
    "    \n",
    "    dfStage = pd.DataFrame()\n",
    "    i += 1\n",
    "    print (f'Sample Number {i} :')\n",
    "\n",
    "    try: \n",
    "        \n",
    "        print (f'State before sampling: {state} , {duration}')\n",
    "        recordDER, recordNetwork = readStreamData()\n",
    "    \n",
    "        DERdata, Networkdata = binary2Dict(recordDER), binary2Dict(recordNetwork)\n",
    "        records = filterRecords(Networkdata, DERdata)\n",
    "        dfBefore = finalDataFrame(records, state, duration)\n",
    "        sumStatesBefore = np.array(state).sum()\n",
    "        \n",
    "        state = random.sample(States, 1)\n",
    "        duration = random.sample(durationTimes, 1)\n",
    "        sumStatesAfter = np.array(state).sum()\n",
    "        \n",
    "        print (f'State after sampling: {state} , {duration}')\n",
    "        print ('Sending Command to DER ...')\n",
    "\n",
    "        # {Call the lambda function to send MQTT message to DER}\n",
    "        \n",
    "        if sumStatesAfter > sumStatesBefore:\n",
    "            time.sleep(180.0 / 1.0)    # 180 Ramp Up Time (Ping) \n",
    "        \n",
    "        time.sleep(int(duration[0])/1.0)  # duration[0] Wait Time \n",
    "\n",
    "        recordDER, recordNetwork = readStreamData()\n",
    "        \n",
    "        DERdata, Networkdata = binary2Dict(recordDER), binary2Dict(recordNetwork)\n",
    "        records = filterRecords(Networkdata, DERdata)\n",
    "        dfAfter = finalDataFrame(records, state , duration)\n",
    "\n",
    "\n",
    "        dfStage = pd.concat([dfBefore, dfAfter], axis=0)\n",
    "        fileName = 'DER_testStreamTransaction-' + dfAfter['eventTime'][0] + '.csv'\n",
    "        write_df_to_csv(bucketName, prefix, fileName, dfStage)\n",
    "        \n",
    "        dfAll = pd.concat([dfAll, dfStage], axis=0)\n",
    "        \n",
    "    except Exception as e: \n",
    "        \n",
    "        print (getattr(e, 'message', repr(e)))\n",
    "        continue \n",
    "\n",
    "fileName = 'DER_testStreamWholeExperimentTransaction-' + dfAfter['eventTime'][0] + '.csv'\n",
    "write_df_to_csv(bucketName, prefix, fileName, dfAll.reset_index())\n",
    "\n",
    "stop = timeit.default_timer()\n",
    "print('Running Time: ', stop - start)"
   ]
  },
  {
   "cell_type": "code",
   "execution_count": 76,
   "metadata": {},
   "outputs": [
    {
     "data": {
      "text/html": [
       "<div>\n",
       "<style scoped>\n",
       "    .dataframe tbody tr th:only-of-type {\n",
       "        vertical-align: middle;\n",
       "    }\n",
       "\n",
       "    .dataframe tbody tr th {\n",
       "        vertical-align: top;\n",
       "    }\n",
       "\n",
       "    .dataframe thead th {\n",
       "        text-align: right;\n",
       "    }\n",
       "</style>\n",
       "<table border=\"1\" class=\"dataframe\">\n",
       "  <thead>\n",
       "    <tr style=\"text-align: right;\">\n",
       "      <th></th>\n",
       "      <th>index</th>\n",
       "    </tr>\n",
       "  </thead>\n",
       "  <tbody>\n",
       "  </tbody>\n",
       "</table>\n",
       "</div>"
      ],
      "text/plain": [
       "Empty DataFrame\n",
       "Columns: [index]\n",
       "Index: []"
      ]
     },
     "execution_count": 76,
     "metadata": {},
     "output_type": "execute_result"
    }
   ],
   "source": [
    "dfAll.reset_index()#[['state', 'duration']]"
   ]
  },
  {
   "cell_type": "code",
   "execution_count": null,
   "metadata": {},
   "outputs": [],
   "source": []
  },
  {
   "cell_type": "code",
   "execution_count": null,
   "metadata": {},
   "outputs": [],
   "source": []
  },
  {
   "cell_type": "code",
   "execution_count": null,
   "metadata": {},
   "outputs": [],
   "source": []
  },
  {
   "cell_type": "code",
   "execution_count": null,
   "metadata": {},
   "outputs": [],
   "source": []
  },
  {
   "cell_type": "code",
   "execution_count": null,
   "metadata": {},
   "outputs": [],
   "source": []
  },
  {
   "cell_type": "code",
   "execution_count": null,
   "metadata": {},
   "outputs": [],
   "source": []
  },
  {
   "cell_type": "code",
   "execution_count": null,
   "metadata": {},
   "outputs": [],
   "source": []
  },
  {
   "cell_type": "code",
   "execution_count": 50,
   "metadata": {},
   "outputs": [
    {
     "data": {
      "text/plain": [
       "2"
      ]
     },
     "execution_count": 50,
     "metadata": {},
     "output_type": "execute_result"
    }
   ],
   "source": [
    "np.array(state).sum()"
   ]
  },
  {
   "cell_type": "code",
   "execution_count": 11,
   "metadata": {},
   "outputs": [
    {
     "name": "stdout",
     "output_type": "stream",
     "text": [
      "Reading Stream ...\n",
      "Data is ready ...\n",
      "[[0, 0, 1, 1]] [20]\n",
      "Reading Stream ...\n",
      "Data is ready ...\n",
      "DERTestData/derTest20200925T105813Z.csv\n",
      "Reading Stream ...\n",
      "Data is ready ...\n",
      "[[0, 1, 1, 1]] [60]\n",
      "Reading Stream ...\n",
      "Data is ready ...\n",
      "DERTestData/derTest20200925T105923Z.csv\n",
      "Reading Stream ...\n",
      "Data is ready ...\n",
      "[[1, 1, 1, 1]] [60]\n",
      "Reading Stream ...\n",
      "Data is ready ...\n",
      "DERTestData/derTest20200925T110033Z.csv\n"
     ]
    }
   ],
   "source": [
    "for i in range (N):\n",
    "    \n",
    "    dfAll = pd.DataFrame()\n",
    "    \n",
    "    s, t = [[0, 0, 0, 0]] , [0]\n",
    "    try: \n",
    "        recordDER, recordNetwork = readStreamData()\n",
    "    \n",
    "        DERdata, Networkdata = binary2Dict(recordDER), binary2Dict(recordNetwork)\n",
    "        records = filterRecords(Networkdata, DERdata)\n",
    "        dfBefore = finalDataFrame(records, s, t)\n",
    "\n",
    "        s = random.sample(States, 1)\n",
    "        t = random.sample(T, 1)\n",
    "        print (s, t)\n",
    "\n",
    "        # {Call the lambda function to send MQTT message to DER}\n",
    "\n",
    "        time.sleep(int(t[0]))\n",
    "\n",
    "        recordDER, recordNetwork = readStreamData()\n",
    "        \n",
    "        DERdata, Networkdata = binary2Dict(recordDER), binary2Dict(recordNetwork)\n",
    "        records = filterRecords(Networkdata, DERdata)\n",
    "        dfAfter = finalDataFrame(records, s, t)\n",
    "\n",
    "\n",
    "        dfAll = pd.concat([dfAfter, dfBefore], axis=0)\n",
    "        fileName = 'derTest' + dfAfter['eventTime'][0] + '.csv'\n",
    "        write_df_to_csv(bucketName, prefix, fileName, dfAll)\n",
    "    \n",
    "    except: continue "
   ]
  },
  {
   "cell_type": "code",
   "execution_count": 35,
   "metadata": {},
   "outputs": [
    {
     "data": {
      "text/html": [
       "<div>\n",
       "<style scoped>\n",
       "    .dataframe tbody tr th:only-of-type {\n",
       "        vertical-align: middle;\n",
       "    }\n",
       "\n",
       "    .dataframe tbody tr th {\n",
       "        vertical-align: top;\n",
       "    }\n",
       "\n",
       "    .dataframe thead th {\n",
       "        text-align: right;\n",
       "    }\n",
       "</style>\n",
       "<table border=\"1\" class=\"dataframe\">\n",
       "  <thead>\n",
       "    <tr style=\"text-align: right;\">\n",
       "      <th></th>\n",
       "      <th>deviceId</th>\n",
       "      <th>microgridId</th>\n",
       "      <th>eventTime</th>\n",
       "      <th>DERstd10Sec</th>\n",
       "      <th>DERstd30Sec</th>\n",
       "      <th>DERstd1Min</th>\n",
       "      <th>DERstd2Min</th>\n",
       "      <th>DERstd5Min</th>\n",
       "      <th>Networkstd10Sec</th>\n",
       "      <th>Networkstd30Sec</th>\n",
       "      <th>Networkstd1Min</th>\n",
       "      <th>Networkstd2Min</th>\n",
       "      <th>Networkstd5Min</th>\n",
       "      <th>s</th>\n",
       "      <th>t</th>\n",
       "      <th>pen10Sec</th>\n",
       "      <th>pen30Sec</th>\n",
       "      <th>pen1Min</th>\n",
       "      <th>pen2Min</th>\n",
       "      <th>pen5Min</th>\n",
       "    </tr>\n",
       "  </thead>\n",
       "  <tbody>\n",
       "    <tr>\n",
       "      <th>0</th>\n",
       "      <td>demo-dss-001</td>\n",
       "      <td>IN-demo-dss-0001</td>\n",
       "      <td>20200923T053842Z</td>\n",
       "      <td>0.001537</td>\n",
       "      <td>0.003149</td>\n",
       "      <td>0.007903</td>\n",
       "      <td>0.015686</td>\n",
       "      <td>0.011388</td>\n",
       "      <td>0.001537</td>\n",
       "      <td>0.003149</td>\n",
       "      <td>0.007903</td>\n",
       "      <td>0.015686</td>\n",
       "      <td>0.011388</td>\n",
       "      <td>[0, 0, 0, 1]</td>\n",
       "      <td>10</td>\n",
       "      <td>0.572479</td>\n",
       "      <td>0.587535</td>\n",
       "      <td>0.594541</td>\n",
       "      <td>0.596755</td>\n",
       "      <td>0.597759</td>\n",
       "    </tr>\n",
       "  </tbody>\n",
       "</table>\n",
       "</div>"
      ],
      "text/plain": [
       "       deviceId       microgridId         eventTime  DERstd10Sec  DERstd30Sec  \\\n",
       "0  demo-dss-001  IN-demo-dss-0001  20200923T053842Z     0.001537     0.003149   \n",
       "\n",
       "   DERstd1Min  DERstd2Min  DERstd5Min  Networkstd10Sec  Networkstd30Sec  \\\n",
       "0    0.007903    0.015686    0.011388         0.001537         0.003149   \n",
       "\n",
       "   Networkstd1Min  Networkstd2Min  Networkstd5Min             s   t  pen10Sec  \\\n",
       "0        0.007903        0.015686        0.011388  [0, 0, 0, 1]  10  0.572479   \n",
       "\n",
       "   pen30Sec   pen1Min   pen2Min   pen5Min  \n",
       "0  0.587535  0.594541  0.596755  0.597759  "
      ]
     },
     "execution_count": 35,
     "metadata": {},
     "output_type": "execute_result"
    }
   ],
   "source": [
    "dfBefore"
   ]
  },
  {
   "cell_type": "code",
   "execution_count": 36,
   "metadata": {},
   "outputs": [
    {
     "data": {
      "text/html": [
       "<div>\n",
       "<style scoped>\n",
       "    .dataframe tbody tr th:only-of-type {\n",
       "        vertical-align: middle;\n",
       "    }\n",
       "\n",
       "    .dataframe tbody tr th {\n",
       "        vertical-align: top;\n",
       "    }\n",
       "\n",
       "    .dataframe thead th {\n",
       "        text-align: right;\n",
       "    }\n",
       "</style>\n",
       "<table border=\"1\" class=\"dataframe\">\n",
       "  <thead>\n",
       "    <tr style=\"text-align: right;\">\n",
       "      <th></th>\n",
       "      <th>deviceId</th>\n",
       "      <th>microgridId</th>\n",
       "      <th>eventTime</th>\n",
       "      <th>DERstd10Sec</th>\n",
       "      <th>DERstd30Sec</th>\n",
       "      <th>DERstd1Min</th>\n",
       "      <th>DERstd2Min</th>\n",
       "      <th>DERstd5Min</th>\n",
       "      <th>Networkstd10Sec</th>\n",
       "      <th>Networkstd30Sec</th>\n",
       "      <th>Networkstd1Min</th>\n",
       "      <th>Networkstd2Min</th>\n",
       "      <th>Networkstd5Min</th>\n",
       "      <th>s</th>\n",
       "      <th>t</th>\n",
       "      <th>pen10Sec</th>\n",
       "      <th>pen30Sec</th>\n",
       "      <th>pen1Min</th>\n",
       "      <th>pen2Min</th>\n",
       "      <th>pen5Min</th>\n",
       "    </tr>\n",
       "  </thead>\n",
       "  <tbody>\n",
       "    <tr>\n",
       "      <th>0</th>\n",
       "      <td>demo-dss-001</td>\n",
       "      <td>IN-demo-dss-0001</td>\n",
       "      <td>20200923T053707Z</td>\n",
       "      <td>0.003013</td>\n",
       "      <td>0.007422</td>\n",
       "      <td>0.006902</td>\n",
       "      <td>0.005623</td>\n",
       "      <td>0.006512</td>\n",
       "      <td>0.003013</td>\n",
       "      <td>0.007422</td>\n",
       "      <td>0.006902</td>\n",
       "      <td>0.005623</td>\n",
       "      <td>0.006512</td>\n",
       "      <td>[0, 0, 1, 1]</td>\n",
       "      <td>30</td>\n",
       "      <td>0.621517</td>\n",
       "      <td>0.606078</td>\n",
       "      <td>0.602463</td>\n",
       "      <td>0.601036</td>\n",
       "      <td>0.600571</td>\n",
       "    </tr>\n",
       "  </tbody>\n",
       "</table>\n",
       "</div>"
      ],
      "text/plain": [
       "       deviceId       microgridId         eventTime  DERstd10Sec  DERstd30Sec  \\\n",
       "0  demo-dss-001  IN-demo-dss-0001  20200923T053707Z     0.003013     0.007422   \n",
       "\n",
       "   DERstd1Min  DERstd2Min  DERstd5Min  Networkstd10Sec  Networkstd30Sec  \\\n",
       "0    0.006902    0.005623    0.006512         0.003013         0.007422   \n",
       "\n",
       "   Networkstd1Min  Networkstd2Min  Networkstd5Min             s   t  pen10Sec  \\\n",
       "0        0.006902        0.005623        0.006512  [0, 0, 1, 1]  30  0.621517   \n",
       "\n",
       "   pen30Sec   pen1Min   pen2Min   pen5Min  \n",
       "0  0.606078  0.602463  0.601036  0.600571  "
      ]
     },
     "execution_count": 36,
     "metadata": {},
     "output_type": "execute_result"
    }
   ],
   "source": [
    "dfAfter"
   ]
  },
  {
   "cell_type": "code",
   "execution_count": 40,
   "metadata": {},
   "outputs": [
    {
     "data": {
      "text/html": [
       "<div>\n",
       "<style scoped>\n",
       "    .dataframe tbody tr th:only-of-type {\n",
       "        vertical-align: middle;\n",
       "    }\n",
       "\n",
       "    .dataframe tbody tr th {\n",
       "        vertical-align: top;\n",
       "    }\n",
       "\n",
       "    .dataframe thead th {\n",
       "        text-align: right;\n",
       "    }\n",
       "</style>\n",
       "<table border=\"1\" class=\"dataframe\">\n",
       "  <thead>\n",
       "    <tr style=\"text-align: right;\">\n",
       "      <th></th>\n",
       "      <th>deviceId</th>\n",
       "      <th>microgridId</th>\n",
       "      <th>eventTime</th>\n",
       "      <th>DERstd10Sec</th>\n",
       "      <th>DERstd30Sec</th>\n",
       "      <th>DERstd1Min</th>\n",
       "      <th>DERstd2Min</th>\n",
       "      <th>DERstd5Min</th>\n",
       "      <th>Networkstd10Sec</th>\n",
       "      <th>Networkstd30Sec</th>\n",
       "      <th>Networkstd1Min</th>\n",
       "      <th>Networkstd2Min</th>\n",
       "      <th>Networkstd5Min</th>\n",
       "      <th>s</th>\n",
       "      <th>t</th>\n",
       "      <th>pen10Sec</th>\n",
       "      <th>pen30Sec</th>\n",
       "      <th>pen1Min</th>\n",
       "      <th>pen2Min</th>\n",
       "      <th>pen5Min</th>\n",
       "    </tr>\n",
       "  </thead>\n",
       "  <tbody>\n",
       "    <tr>\n",
       "      <th>0</th>\n",
       "      <td>demo-dss-001</td>\n",
       "      <td>IN-demo-dss-0001</td>\n",
       "      <td>20200923T053707Z</td>\n",
       "      <td>0.003013</td>\n",
       "      <td>0.007422</td>\n",
       "      <td>0.006902</td>\n",
       "      <td>0.005623</td>\n",
       "      <td>0.006512</td>\n",
       "      <td>0.003013</td>\n",
       "      <td>0.007422</td>\n",
       "      <td>0.006902</td>\n",
       "      <td>0.005623</td>\n",
       "      <td>0.006512</td>\n",
       "      <td>[0, 0, 1, 1]</td>\n",
       "      <td>30</td>\n",
       "      <td>0.621517</td>\n",
       "      <td>0.606078</td>\n",
       "      <td>0.602463</td>\n",
       "      <td>0.601036</td>\n",
       "      <td>0.600571</td>\n",
       "    </tr>\n",
       "    <tr>\n",
       "      <th>0</th>\n",
       "      <td>demo-dss-001</td>\n",
       "      <td>IN-demo-dss-0001</td>\n",
       "      <td>20200923T053842Z</td>\n",
       "      <td>0.001537</td>\n",
       "      <td>0.003149</td>\n",
       "      <td>0.007903</td>\n",
       "      <td>0.015686</td>\n",
       "      <td>0.011388</td>\n",
       "      <td>0.001537</td>\n",
       "      <td>0.003149</td>\n",
       "      <td>0.007903</td>\n",
       "      <td>0.015686</td>\n",
       "      <td>0.011388</td>\n",
       "      <td>[0, 0, 0, 1]</td>\n",
       "      <td>10</td>\n",
       "      <td>0.572479</td>\n",
       "      <td>0.587535</td>\n",
       "      <td>0.594541</td>\n",
       "      <td>0.596755</td>\n",
       "      <td>0.597759</td>\n",
       "    </tr>\n",
       "  </tbody>\n",
       "</table>\n",
       "</div>"
      ],
      "text/plain": [
       "       deviceId       microgridId         eventTime  DERstd10Sec  DERstd30Sec  \\\n",
       "0  demo-dss-001  IN-demo-dss-0001  20200923T053707Z     0.003013     0.007422   \n",
       "0  demo-dss-001  IN-demo-dss-0001  20200923T053842Z     0.001537     0.003149   \n",
       "\n",
       "   DERstd1Min  DERstd2Min  DERstd5Min  Networkstd10Sec  Networkstd30Sec  \\\n",
       "0    0.006902    0.005623    0.006512         0.003013         0.007422   \n",
       "0    0.007903    0.015686    0.011388         0.001537         0.003149   \n",
       "\n",
       "   Networkstd1Min  Networkstd2Min  Networkstd5Min             s   t  pen10Sec  \\\n",
       "0        0.006902        0.005623        0.006512  [0, 0, 1, 1]  30  0.621517   \n",
       "0        0.007903        0.015686        0.011388  [0, 0, 0, 1]  10  0.572479   \n",
       "\n",
       "   pen30Sec   pen1Min   pen2Min   pen5Min  \n",
       "0  0.606078  0.602463  0.601036  0.600571  \n",
       "0  0.587535  0.594541  0.596755  0.597759  "
      ]
     },
     "execution_count": 40,
     "metadata": {},
     "output_type": "execute_result"
    }
   ],
   "source": [
    "dfAll = pd.concat([dfAfter, dfBefore], axis=0)\n",
    "\n",
    "dfAll"
   ]
  },
  {
   "cell_type": "code",
   "execution_count": null,
   "metadata": {},
   "outputs": [],
   "source": []
  },
  {
   "cell_type": "code",
   "execution_count": null,
   "metadata": {},
   "outputs": [],
   "source": []
  },
  {
   "cell_type": "code",
   "execution_count": null,
   "metadata": {},
   "outputs": [],
   "source": []
  },
  {
   "cell_type": "code",
   "execution_count": null,
   "metadata": {},
   "outputs": [],
   "source": []
  },
  {
   "cell_type": "code",
   "execution_count": null,
   "metadata": {},
   "outputs": [],
   "source": []
  },
  {
   "cell_type": "code",
   "execution_count": 8,
   "metadata": {},
   "outputs": [
    {
     "name": "stdout",
     "output_type": "stream",
     "text": [
      "Reading Stream ...\n",
      "Data is ready ...\n"
     ]
    }
   ],
   "source": [
    "client = boto3.client('kinesis')\n",
    "\n",
    "shard_id = 'shardId-000000000000' #we only have one shard!\n",
    "shard_it = client.get_shard_iterator(StreamName=\"representativeDERResultStream\", ShardId=shard_id, ShardIteratorType=\"LATEST\")[\"ShardIterator\"]\n",
    "#shard_it = client.get_shard_iterator(StreamName=\"Veda5sMessage\", ShardId=shard_id, ShardIteratorType=\"LATEST\")[\"ShardIterator\"]\n",
    "print('Reading Stream ...')\n",
    "\n",
    "records = []\n",
    "while len(records) == 0:\n",
    "    out = client.get_records(ShardIterator=shard_it, Limit=2)\n",
    "    shard_it = out[\"NextShardIterator\"]\n",
    "    records = out['Records']\n",
    "    #print (records);\n",
    "    time.sleep(1)\n",
    "\n",
    "#print(records)\n",
    "recordDER = records[0]\n",
    "recordNetwork = records[1]\n",
    "#print('\\n', recordDER, '\\n', recordNetwork )\n",
    "print('Data is ready ...')"
   ]
  },
  {
   "cell_type": "code",
   "execution_count": 9,
   "metadata": {},
   "outputs": [],
   "source": [
    "import ast\n",
    "byte_str = recordDER['Data']\n",
    "dict_str = byte_str.decode(\"UTF-8\")\n",
    "DERdata = ast.literal_eval(dict_str)\n",
    "result = repr(DERdata)\n",
    "#print(result)\n",
    "\n",
    "byte_str = recordNetwork['Data']\n",
    "dict_str = byte_str.decode(\"UTF-8\")\n",
    "Networkdata = ast.literal_eval(dict_str)\n",
    "result = repr(Networkdata)\n",
    "#print(result)"
   ]
  },
  {
   "cell_type": "code",
   "execution_count": 10,
   "metadata": {},
   "outputs": [
    {
     "data": {
      "text/plain": [
       "{'deviceId': 'demo-dss-001',\n",
       " 'microgridId': 'IN-demo-dss-0001',\n",
       " 'eventTime': '2020-09-22 23:41:19.000',\n",
       " 'DERstd10Sec': 4.2546615021187965e-05,\n",
       " 'DERstd30Sec': 0.00018553360699284947,\n",
       " 'DERstd1Min': 0.003321962186453453,\n",
       " 'DERstd2Min': 0.003321962186453453,\n",
       " 'DERstd5Min': 0.003321962186453453,\n",
       " 'Networkstd10Sec': 0.0,\n",
       " 'Networkstd30Sec': 0.0,\n",
       " 'Networkstd1Min': 0.0,\n",
       " 'Networkstd2Min': 0.0,\n",
       " 'Networkstd5Min': 0.0,\n",
       " 'DEREnergy10Sec': -0.04198468666666635,\n",
       " 'networkEnergy10Sec': -9.99,\n",
       " 'DEREnergy30Sec': -0.05981654076923079,\n",
       " 'networkEnergy30Sec': -9.99,\n",
       " 'DEREnergy1Min': -0.07145516263157894,\n",
       " 'networkEnergy1Min': -9.99,\n",
       " 'DEREnergy2Min': -0.07145516263157894,\n",
       " 'networkEnergy2Min': -9.99,\n",
       " 'DEREnergy5Min': -0.07145516263157894,\n",
       " 'networkEnergy5Min': -9.99}"
      ]
     },
     "execution_count": 10,
     "metadata": {},
     "output_type": "execute_result"
    }
   ],
   "source": [
    "DERdata"
   ]
  },
  {
   "cell_type": "code",
   "execution_count": 11,
   "metadata": {},
   "outputs": [
    {
     "data": {
      "text/plain": [
       "{'deviceId': 'demo-dss-001',\n",
       " 'microgridId': 'IN-demo-dss-0001',\n",
       " 'eventTime': '2020-09-22 23:41:19.000',\n",
       " 'DERstd10Sec': 0.0,\n",
       " 'DERstd30Sec': 0.0,\n",
       " 'DERstd1Min': 0.0,\n",
       " 'DERstd2Min': 0.0,\n",
       " 'DERstd5Min': 0.0,\n",
       " 'Networkstd10Sec': 4.2546615021187965e-05,\n",
       " 'Networkstd30Sec': 0.00018553360699284947,\n",
       " 'Networkstd1Min': 0.003321962186453453,\n",
       " 'Networkstd2Min': 0.003321962186453453,\n",
       " 'Networkstd5Min': 0.003321962186453453,\n",
       " 'DEREnergy10Sec': -9.99,\n",
       " 'networkEnergy10Sec': -0.05379339749999976,\n",
       " 'DEREnergy30Sec': -9.99,\n",
       " 'networkEnergy30Sec': -0.06191675428571431,\n",
       " 'DEREnergy1Min': -9.99,\n",
       " 'networkEnergy1Min': -0.0717614448275862,\n",
       " 'DEREnergy2Min': -9.99,\n",
       " 'networkEnergy2Min': -0.0717614448275862,\n",
       " 'DEREnergy5Min': -9.99,\n",
       " 'networkEnergy5Min': -0.0717614448275862}"
      ]
     },
     "execution_count": 11,
     "metadata": {},
     "output_type": "execute_result"
    }
   ],
   "source": [
    "Networkdata"
   ]
  },
  {
   "cell_type": "code",
   "execution_count": 12,
   "metadata": {},
   "outputs": [
    {
     "data": {
      "text/plain": [
       "{'deviceId': 'demo-dss-001',\n",
       " 'microgridId': 'IN-demo-dss-0001',\n",
       " 'eventTime': '2020-09-22 23:41:19.000',\n",
       " 'Networkstd10Sec': 4.2546615021187965e-05,\n",
       " 'Networkstd30Sec': 0.00018553360699284947,\n",
       " 'Networkstd1Min': 0.003321962186453453,\n",
       " 'Networkstd2Min': 0.003321962186453453,\n",
       " 'Networkstd5Min': 0.003321962186453453,\n",
       " 'networkEnergy10Sec': -0.05379339749999976,\n",
       " 'networkEnergy30Sec': -0.06191675428571431,\n",
       " 'networkEnergy1Min': -0.0717614448275862,\n",
       " 'networkEnergy2Min': -0.0717614448275862,\n",
       " 'networkEnergy5Min': -0.0717614448275862}"
      ]
     },
     "execution_count": 12,
     "metadata": {},
     "output_type": "execute_result"
    }
   ],
   "source": [
    "Networkrecords = {}\n",
    "for key in Networkdata.keys():\n",
    "    #print(key)\n",
    "    Networkrecords[key] = Networkdata[key]\n",
    "#print(Networkrecords)    \n",
    "\n",
    "Networkrecords.pop('DERstd10Sec', None)\n",
    "Networkrecords.pop('DERstd30Sec', None)\n",
    "Networkrecords.pop('DERstd1Min', None)\n",
    "Networkrecords.pop('DERstd2Min', None)\n",
    "Networkrecords.pop('DERstd5Min', None)\n",
    "\n",
    "Networkrecords.pop('DEREnergy10Sec', None)\n",
    "Networkrecords.pop('DEREnergy30Sec', None)\n",
    "Networkrecords.pop('DEREnergy1Min', None)\n",
    "Networkrecords.pop('DEREnergy2Min', None)\n",
    "Networkrecords.pop('DEREnergy5Min', None)\n",
    "Networkrecords"
   ]
  },
  {
   "cell_type": "code",
   "execution_count": 13,
   "metadata": {},
   "outputs": [
    {
     "data": {
      "text/plain": [
       "{'deviceId': 'demo-dss-001',\n",
       " 'microgridId': 'IN-demo-dss-0001',\n",
       " 'eventTime': '2020-09-22 23:41:19.000',\n",
       " 'DERstd10Sec': 4.2546615021187965e-05,\n",
       " 'DERstd30Sec': 0.00018553360699284947,\n",
       " 'DERstd1Min': 0.003321962186453453,\n",
       " 'DERstd2Min': 0.003321962186453453,\n",
       " 'DERstd5Min': 0.003321962186453453,\n",
       " 'DEREnergy10Sec': -0.04198468666666635,\n",
       " 'DEREnergy30Sec': -0.05981654076923079,\n",
       " 'DEREnergy1Min': -0.07145516263157894,\n",
       " 'DEREnergy2Min': -0.07145516263157894,\n",
       " 'DEREnergy5Min': -0.07145516263157894}"
      ]
     },
     "execution_count": 13,
     "metadata": {},
     "output_type": "execute_result"
    }
   ],
   "source": [
    "DERrecords = {}\n",
    "for key in DERdata.keys():\n",
    "    #print(key)\n",
    "    DERrecords[key] = DERdata[key]\n",
    "#print(DERrecords)    \n",
    "#records['TimeStamp'] = records['ApproximateArrivalTimestamp']\n",
    "\n",
    "DERrecords.pop('Networkstd10Sec', None)\n",
    "DERrecords.pop('Networkstd30Sec', None)\n",
    "DERrecords.pop('Networkstd1Min', None)\n",
    "DERrecords.pop('Networkstd2Min', None)\n",
    "DERrecords.pop('Networkstd5Min', None)\n",
    "\n",
    "DERrecords.pop('networkEnergy10Sec', None)\n",
    "DERrecords.pop('networkEnergy30Sec', None)\n",
    "DERrecords.pop('networkEnergy1Min', None)\n",
    "DERrecords.pop('networkEnergy2Min', None)\n",
    "DERrecords.pop('networkEnergy5Min', None)\n",
    "DERrecords"
   ]
  },
  {
   "cell_type": "code",
   "execution_count": 14,
   "metadata": {},
   "outputs": [],
   "source": [
    "records = {}\n",
    "if DERrecords['eventTime'] == Networkrecords['eventTime']:\n",
    "    for key in DERrecords.keys():\n",
    "        records[key] = DERrecords[key]\n",
    "\n",
    "    for key in Networkrecords.keys():\n",
    "        records[key] = Networkrecords[key]\n",
    "        \n",
    "#records"
   ]
  },
  {
   "cell_type": "code",
   "execution_count": 15,
   "metadata": {},
   "outputs": [
    {
     "data": {
      "text/html": [
       "<div>\n",
       "<style scoped>\n",
       "    .dataframe tbody tr th:only-of-type {\n",
       "        vertical-align: middle;\n",
       "    }\n",
       "\n",
       "    .dataframe tbody tr th {\n",
       "        vertical-align: top;\n",
       "    }\n",
       "\n",
       "    .dataframe thead th {\n",
       "        text-align: right;\n",
       "    }\n",
       "</style>\n",
       "<table border=\"1\" class=\"dataframe\">\n",
       "  <thead>\n",
       "    <tr style=\"text-align: right;\">\n",
       "      <th></th>\n",
       "      <th>deviceId</th>\n",
       "      <th>microgridId</th>\n",
       "      <th>eventTime</th>\n",
       "      <th>DERstd10Sec</th>\n",
       "      <th>DERstd30Sec</th>\n",
       "      <th>DERstd1Min</th>\n",
       "      <th>DERstd2Min</th>\n",
       "      <th>DERstd5Min</th>\n",
       "      <th>DEREnergy10Sec</th>\n",
       "      <th>DEREnergy30Sec</th>\n",
       "      <th>...</th>\n",
       "      <th>Networkstd10Sec</th>\n",
       "      <th>Networkstd30Sec</th>\n",
       "      <th>Networkstd1Min</th>\n",
       "      <th>Networkstd2Min</th>\n",
       "      <th>Networkstd5Min</th>\n",
       "      <th>networkEnergy10Sec</th>\n",
       "      <th>networkEnergy30Sec</th>\n",
       "      <th>networkEnergy1Min</th>\n",
       "      <th>networkEnergy2Min</th>\n",
       "      <th>networkEnergy5Min</th>\n",
       "    </tr>\n",
       "  </thead>\n",
       "  <tbody>\n",
       "    <tr>\n",
       "      <th>0</th>\n",
       "      <td>demo-dss-001</td>\n",
       "      <td>IN-demo-dss-0001</td>\n",
       "      <td>2020-09-22 23:41:19.000</td>\n",
       "      <td>0.000043</td>\n",
       "      <td>0.000186</td>\n",
       "      <td>0.003322</td>\n",
       "      <td>0.003322</td>\n",
       "      <td>0.003322</td>\n",
       "      <td>-0.041985</td>\n",
       "      <td>-0.059817</td>\n",
       "      <td>...</td>\n",
       "      <td>0.000043</td>\n",
       "      <td>0.000186</td>\n",
       "      <td>0.003322</td>\n",
       "      <td>0.003322</td>\n",
       "      <td>0.003322</td>\n",
       "      <td>-0.053793</td>\n",
       "      <td>-0.061917</td>\n",
       "      <td>-0.071761</td>\n",
       "      <td>-0.071761</td>\n",
       "      <td>-0.071761</td>\n",
       "    </tr>\n",
       "  </tbody>\n",
       "</table>\n",
       "<p>1 rows × 23 columns</p>\n",
       "</div>"
      ],
      "text/plain": [
       "       deviceId       microgridId                eventTime  DERstd10Sec  \\\n",
       "0  demo-dss-001  IN-demo-dss-0001  2020-09-22 23:41:19.000     0.000043   \n",
       "\n",
       "   DERstd30Sec  DERstd1Min  DERstd2Min  DERstd5Min  DEREnergy10Sec  \\\n",
       "0     0.000186    0.003322    0.003322    0.003322       -0.041985   \n",
       "\n",
       "   DEREnergy30Sec  ...  Networkstd10Sec  Networkstd30Sec  Networkstd1Min  \\\n",
       "0       -0.059817  ...         0.000043         0.000186        0.003322   \n",
       "\n",
       "   Networkstd2Min  Networkstd5Min  networkEnergy10Sec  networkEnergy30Sec  \\\n",
       "0        0.003322        0.003322           -0.053793           -0.061917   \n",
       "\n",
       "   networkEnergy1Min  networkEnergy2Min  networkEnergy5Min  \n",
       "0          -0.071761          -0.071761          -0.071761  \n",
       "\n",
       "[1 rows x 23 columns]"
      ]
     },
     "execution_count": 15,
     "metadata": {},
     "output_type": "execute_result"
    }
   ],
   "source": [
    "df = pd.DataFrame(records, index=[0])\n",
    "df"
   ]
  },
  {
   "cell_type": "code",
   "execution_count": 16,
   "metadata": {},
   "outputs": [],
   "source": [
    "for timespan in ['10Sec', '30Sec', '1Min', '2Min', '5Min']:\n",
    "    #if (df['networkEnergy' + timespan])!=0:\n",
    "        df['pen' + timespan] = df['DEREnergy' + timespan] / df['networkEnergy' + timespan]"
   ]
  },
  {
   "cell_type": "code",
   "execution_count": 17,
   "metadata": {},
   "outputs": [
    {
     "data": {
      "text/html": [
       "<div>\n",
       "<style scoped>\n",
       "    .dataframe tbody tr th:only-of-type {\n",
       "        vertical-align: middle;\n",
       "    }\n",
       "\n",
       "    .dataframe tbody tr th {\n",
       "        vertical-align: top;\n",
       "    }\n",
       "\n",
       "    .dataframe thead th {\n",
       "        text-align: right;\n",
       "    }\n",
       "</style>\n",
       "<table border=\"1\" class=\"dataframe\">\n",
       "  <thead>\n",
       "    <tr style=\"text-align: right;\">\n",
       "      <th></th>\n",
       "      <th>deviceId</th>\n",
       "      <th>microgridId</th>\n",
       "      <th>eventTime</th>\n",
       "      <th>DERstd10Sec</th>\n",
       "      <th>DERstd30Sec</th>\n",
       "      <th>DERstd1Min</th>\n",
       "      <th>DERstd2Min</th>\n",
       "      <th>DERstd5Min</th>\n",
       "      <th>Networkstd10Sec</th>\n",
       "      <th>Networkstd30Sec</th>\n",
       "      <th>Networkstd1Min</th>\n",
       "      <th>Networkstd2Min</th>\n",
       "      <th>Networkstd5Min</th>\n",
       "      <th>pen10Sec</th>\n",
       "      <th>pen30Sec</th>\n",
       "      <th>pen1Min</th>\n",
       "      <th>pen2Min</th>\n",
       "      <th>pen5Min</th>\n",
       "    </tr>\n",
       "  </thead>\n",
       "  <tbody>\n",
       "    <tr>\n",
       "      <th>0</th>\n",
       "      <td>demo-dss-001</td>\n",
       "      <td>IN-demo-dss-0001</td>\n",
       "      <td>2020-09-22 23:41:19.000</td>\n",
       "      <td>0.000043</td>\n",
       "      <td>0.000186</td>\n",
       "      <td>0.003322</td>\n",
       "      <td>0.003322</td>\n",
       "      <td>0.003322</td>\n",
       "      <td>0.000043</td>\n",
       "      <td>0.000186</td>\n",
       "      <td>0.003322</td>\n",
       "      <td>0.003322</td>\n",
       "      <td>0.003322</td>\n",
       "      <td>0.78048</td>\n",
       "      <td>0.96608</td>\n",
       "      <td>0.995732</td>\n",
       "      <td>0.995732</td>\n",
       "      <td>0.995732</td>\n",
       "    </tr>\n",
       "  </tbody>\n",
       "</table>\n",
       "</div>"
      ],
      "text/plain": [
       "       deviceId       microgridId                eventTime  DERstd10Sec  \\\n",
       "0  demo-dss-001  IN-demo-dss-0001  2020-09-22 23:41:19.000     0.000043   \n",
       "\n",
       "   DERstd30Sec  DERstd1Min  DERstd2Min  DERstd5Min  Networkstd10Sec  \\\n",
       "0     0.000186    0.003322    0.003322    0.003322         0.000043   \n",
       "\n",
       "   Networkstd30Sec  Networkstd1Min  Networkstd2Min  Networkstd5Min  pen10Sec  \\\n",
       "0         0.000186        0.003322        0.003322        0.003322   0.78048   \n",
       "\n",
       "   pen30Sec   pen1Min   pen2Min   pen5Min  \n",
       "0   0.96608  0.995732  0.995732  0.995732  "
      ]
     },
     "execution_count": 17,
     "metadata": {},
     "output_type": "execute_result"
    }
   ],
   "source": [
    "for timespan in ['10Sec', '30Sec', '1Min', '2Min', '5Min']:\n",
    "    df = df.drop (columns = 'DEREnergy' + timespan)\n",
    "    df = df.drop (columns = 'networkEnergy' + timespan)\n",
    "df"
   ]
  },
  {
   "cell_type": "code",
   "execution_count": 18,
   "metadata": {},
   "outputs": [
    {
     "data": {
      "text/html": [
       "<div>\n",
       "<style scoped>\n",
       "    .dataframe tbody tr th:only-of-type {\n",
       "        vertical-align: middle;\n",
       "    }\n",
       "\n",
       "    .dataframe tbody tr th {\n",
       "        vertical-align: top;\n",
       "    }\n",
       "\n",
       "    .dataframe thead th {\n",
       "        text-align: right;\n",
       "    }\n",
       "</style>\n",
       "<table border=\"1\" class=\"dataframe\">\n",
       "  <thead>\n",
       "    <tr style=\"text-align: right;\">\n",
       "      <th></th>\n",
       "      <th>deviceId</th>\n",
       "      <th>microgridId</th>\n",
       "      <th>eventTime</th>\n",
       "      <th>DERstd10Sec</th>\n",
       "      <th>DERstd30Sec</th>\n",
       "      <th>DERstd1Min</th>\n",
       "      <th>DERstd2Min</th>\n",
       "      <th>DERstd5Min</th>\n",
       "      <th>Networkstd10Sec</th>\n",
       "      <th>Networkstd30Sec</th>\n",
       "      <th>Networkstd1Min</th>\n",
       "      <th>Networkstd2Min</th>\n",
       "      <th>Networkstd5Min</th>\n",
       "      <th>pen10Sec</th>\n",
       "      <th>pen30Sec</th>\n",
       "      <th>pen1Min</th>\n",
       "      <th>pen2Min</th>\n",
       "      <th>pen5Min</th>\n",
       "    </tr>\n",
       "  </thead>\n",
       "  <tbody>\n",
       "    <tr>\n",
       "      <th>0</th>\n",
       "      <td>demo-dss-001</td>\n",
       "      <td>IN-demo-dss-0001</td>\n",
       "      <td>20200923T051119Z</td>\n",
       "      <td>0.000043</td>\n",
       "      <td>0.000186</td>\n",
       "      <td>0.003322</td>\n",
       "      <td>0.003322</td>\n",
       "      <td>0.003322</td>\n",
       "      <td>0.000043</td>\n",
       "      <td>0.000186</td>\n",
       "      <td>0.003322</td>\n",
       "      <td>0.003322</td>\n",
       "      <td>0.003322</td>\n",
       "      <td>0.78048</td>\n",
       "      <td>0.96608</td>\n",
       "      <td>0.995732</td>\n",
       "      <td>0.995732</td>\n",
       "      <td>0.995732</td>\n",
       "    </tr>\n",
       "  </tbody>\n",
       "</table>\n",
       "</div>"
      ],
      "text/plain": [
       "       deviceId       microgridId         eventTime  DERstd10Sec  DERstd30Sec  \\\n",
       "0  demo-dss-001  IN-demo-dss-0001  20200923T051119Z     0.000043     0.000186   \n",
       "\n",
       "   DERstd1Min  DERstd2Min  DERstd5Min  Networkstd10Sec  Networkstd30Sec  \\\n",
       "0    0.003322    0.003322    0.003322         0.000043         0.000186   \n",
       "\n",
       "   Networkstd1Min  Networkstd2Min  Networkstd5Min  pen10Sec  pen30Sec  \\\n",
       "0        0.003322        0.003322        0.003322   0.78048   0.96608   \n",
       "\n",
       "    pen1Min   pen2Min   pen5Min  \n",
       "0  0.995732  0.995732  0.995732  "
      ]
     },
     "execution_count": 18,
     "metadata": {},
     "output_type": "execute_result"
    }
   ],
   "source": [
    "df['eventTime'] = pd.to_datetime(df['eventTime']) + datetime.timedelta(hours = 5, minutes =30)\n",
    "df['eventTime'] = df['eventTime'].apply(lambda x: x.strftime('%Y%m%dT%H%M%SZ')).astype(str)\n",
    "df"
   ]
  },
  {
   "cell_type": "code",
   "execution_count": null,
   "metadata": {},
   "outputs": [],
   "source": []
  },
  {
   "cell_type": "code",
   "execution_count": 19,
   "metadata": {},
   "outputs": [
    {
     "name": "stdout",
     "output_type": "stream",
     "text": [
      "DERTestData/derTest20200923T051119Z.csv\n"
     ]
    }
   ],
   "source": [
    "bucketName = 'testsmdata2'\n",
    "prefix = 'DERTestData/'\n",
    "fileName = 'derTest' + df['eventTime'][0] + '.csv'\n",
    "\n",
    "write_df_to_csv(bucketName, prefix, fileName, df)"
   ]
  },
  {
   "cell_type": "code",
   "execution_count": 122,
   "metadata": {},
   "outputs": [
    {
     "data": {
      "text/plain": [
       "'20200921T155104Z'"
      ]
     },
     "execution_count": 122,
     "metadata": {},
     "output_type": "execute_result"
    }
   ],
   "source": [
    "df['eventTime'][0]"
   ]
  },
  {
   "cell_type": "code",
   "execution_count": null,
   "metadata": {},
   "outputs": [],
   "source": []
  },
  {
   "cell_type": "code",
   "execution_count": null,
   "metadata": {},
   "outputs": [],
   "source": []
  },
  {
   "cell_type": "code",
   "execution_count": null,
   "metadata": {},
   "outputs": [],
   "source": []
  },
  {
   "cell_type": "code",
   "execution_count": null,
   "metadata": {},
   "outputs": [],
   "source": []
  },
  {
   "cell_type": "code",
   "execution_count": null,
   "metadata": {},
   "outputs": [],
   "source": []
  },
  {
   "cell_type": "code",
   "execution_count": null,
   "metadata": {},
   "outputs": [],
   "source": []
  },
  {
   "cell_type": "code",
   "execution_count": null,
   "metadata": {},
   "outputs": [],
   "source": []
  },
  {
   "cell_type": "code",
   "execution_count": null,
   "metadata": {},
   "outputs": [],
   "source": []
  },
  {
   "cell_type": "code",
   "execution_count": null,
   "metadata": {},
   "outputs": [],
   "source": []
  },
  {
   "cell_type": "code",
   "execution_count": null,
   "metadata": {},
   "outputs": [],
   "source": []
  },
  {
   "cell_type": "code",
   "execution_count": null,
   "metadata": {},
   "outputs": [],
   "source": []
  },
  {
   "cell_type": "code",
   "execution_count": 24,
   "metadata": {},
   "outputs": [
    {
     "data": {
      "text/plain": [
       "<botocore.client.KinesisAnalytics at 0x7fdbc0eab4a8>"
      ]
     },
     "execution_count": 24,
     "metadata": {},
     "output_type": "execute_result"
    }
   ],
   "source": [
    "client = boto3.client('kinesisanalytics')\n",
    "client"
   ]
  },
  {
   "cell_type": "code",
   "execution_count": 25,
   "metadata": {},
   "outputs": [
    {
     "ename": "AttributeError",
     "evalue": "'KinesisAnalytics' object has no attribute 'get_analyzed_resource'",
     "output_type": "error",
     "traceback": [
      "\u001b[0;31m---------------------------------------------------------------------------\u001b[0m",
      "\u001b[0;31mAttributeError\u001b[0m                            Traceback (most recent call last)",
      "\u001b[0;32m<ipython-input-25-a4dc0c3946ce>\u001b[0m in \u001b[0;36m<module>\u001b[0;34m\u001b[0m\n\u001b[0;32m----> 1\u001b[0;31m response = client.get_analyzed_resource(\n\u001b[0m\u001b[1;32m      2\u001b[0m     \u001b[0manalyzerArn\u001b[0m\u001b[0;34m=\u001b[0m\u001b[0;34m'arn:aws:kinesisanalytics:ap-south-1:440616111601:application/derControl'\u001b[0m\u001b[0;34m,\u001b[0m\u001b[0;34m\u001b[0m\u001b[0;34m\u001b[0m\u001b[0m\n\u001b[1;32m      3\u001b[0m     \u001b[0mresourceArn\u001b[0m\u001b[0;34m=\u001b[0m\u001b[0;34m'arn:aws:kinesis:ap-south-1:440616111601:stream/Veda5sMessage'\u001b[0m\u001b[0;34m\u001b[0m\u001b[0;34m\u001b[0m\u001b[0m\n\u001b[1;32m      4\u001b[0m )\n",
      "\u001b[0;32m~/anaconda3/envs/python3/lib/python3.6/site-packages/botocore/client.py\u001b[0m in \u001b[0;36m__getattr__\u001b[0;34m(self, item)\u001b[0m\n\u001b[1;32m    573\u001b[0m         raise AttributeError(\n\u001b[1;32m    574\u001b[0m             \"'%s' object has no attribute '%s'\" % (\n\u001b[0;32m--> 575\u001b[0;31m                 self.__class__.__name__, item)\n\u001b[0m\u001b[1;32m    576\u001b[0m         )\n\u001b[1;32m    577\u001b[0m \u001b[0;34m\u001b[0m\u001b[0m\n",
      "\u001b[0;31mAttributeError\u001b[0m: 'KinesisAnalytics' object has no attribute 'get_analyzed_resource'"
     ]
    }
   ],
   "source": [
    "response = client.get_analyzed_resource(\n",
    "    analyzerArn='arn:aws:kinesisanalytics:ap-south-1:440616111601:application/derControl',\n",
    "    resourceArn='arn:aws:kinesis:ap-south-1:440616111601:stream/Veda5sMessage'\n",
    ")"
   ]
  },
  {
   "cell_type": "code",
   "execution_count": null,
   "metadata": {},
   "outputs": [],
   "source": [
    "add_application_output(**kwargs)"
   ]
  },
  {
   "cell_type": "code",
   "execution_count": null,
   "metadata": {},
   "outputs": [],
   "source": []
  },
  {
   "cell_type": "code",
   "execution_count": null,
   "metadata": {},
   "outputs": [],
   "source": []
  },
  {
   "cell_type": "code",
   "execution_count": null,
   "metadata": {},
   "outputs": [],
   "source": []
  },
  {
   "cell_type": "code",
   "execution_count": 23,
   "metadata": {},
   "outputs": [
    {
     "ename": "ValidationException",
     "evalue": "An error occurred (ValidationException) when calling the GetAnalyzedResource operation: Invalid analyzerArn",
     "output_type": "error",
     "traceback": [
      "\u001b[0;31m---------------------------------------------------------------------------\u001b[0m",
      "\u001b[0;31mValidationException\u001b[0m                       Traceback (most recent call last)",
      "\u001b[0;32m<ipython-input-23-714ffc48e265>\u001b[0m in \u001b[0;36m<module>\u001b[0;34m\u001b[0m\n\u001b[1;32m      1\u001b[0m response = client.get_analyzed_resource(\n\u001b[1;32m      2\u001b[0m     \u001b[0manalyzerArn\u001b[0m\u001b[0;34m=\u001b[0m\u001b[0;34m\"arn:aws:kinesisanalytics:ap-south-1:440616111601:application/DSS_5sStatusMessageLowVoltage\"\u001b[0m\u001b[0;34m,\u001b[0m\u001b[0;34m\u001b[0m\u001b[0;34m\u001b[0m\u001b[0m\n\u001b[0;32m----> 3\u001b[0;31m     \u001b[0mresourceArn\u001b[0m\u001b[0;34m=\u001b[0m\u001b[0;34m'arn:aws:kinesis:ap-south-1:440616111601:stream/DSS_5sStatusMessageLowVoltage'\u001b[0m\u001b[0;34m\u001b[0m\u001b[0;34m\u001b[0m\u001b[0m\n\u001b[0m\u001b[1;32m      4\u001b[0m )\n",
      "\u001b[0;32m~/anaconda3/envs/python3/lib/python3.6/site-packages/botocore/client.py\u001b[0m in \u001b[0;36m_api_call\u001b[0;34m(self, *args, **kwargs)\u001b[0m\n\u001b[1;32m    314\u001b[0m                     \"%s() only accepts keyword arguments.\" % py_operation_name)\n\u001b[1;32m    315\u001b[0m             \u001b[0;31m# The \"self\" in this scope is referring to the BaseClient.\u001b[0m\u001b[0;34m\u001b[0m\u001b[0;34m\u001b[0m\u001b[0;34m\u001b[0m\u001b[0m\n\u001b[0;32m--> 316\u001b[0;31m             \u001b[0;32mreturn\u001b[0m \u001b[0mself\u001b[0m\u001b[0;34m.\u001b[0m\u001b[0m_make_api_call\u001b[0m\u001b[0;34m(\u001b[0m\u001b[0moperation_name\u001b[0m\u001b[0;34m,\u001b[0m \u001b[0mkwargs\u001b[0m\u001b[0;34m)\u001b[0m\u001b[0;34m\u001b[0m\u001b[0;34m\u001b[0m\u001b[0m\n\u001b[0m\u001b[1;32m    317\u001b[0m \u001b[0;34m\u001b[0m\u001b[0m\n\u001b[1;32m    318\u001b[0m         \u001b[0m_api_call\u001b[0m\u001b[0;34m.\u001b[0m\u001b[0m__name__\u001b[0m \u001b[0;34m=\u001b[0m \u001b[0mstr\u001b[0m\u001b[0;34m(\u001b[0m\u001b[0mpy_operation_name\u001b[0m\u001b[0;34m)\u001b[0m\u001b[0;34m\u001b[0m\u001b[0;34m\u001b[0m\u001b[0m\n",
      "\u001b[0;32m~/anaconda3/envs/python3/lib/python3.6/site-packages/botocore/client.py\u001b[0m in \u001b[0;36m_make_api_call\u001b[0;34m(self, operation_name, api_params)\u001b[0m\n\u001b[1;32m    633\u001b[0m             \u001b[0merror_code\u001b[0m \u001b[0;34m=\u001b[0m \u001b[0mparsed_response\u001b[0m\u001b[0;34m.\u001b[0m\u001b[0mget\u001b[0m\u001b[0;34m(\u001b[0m\u001b[0;34m\"Error\"\u001b[0m\u001b[0;34m,\u001b[0m \u001b[0;34m{\u001b[0m\u001b[0;34m}\u001b[0m\u001b[0;34m)\u001b[0m\u001b[0;34m.\u001b[0m\u001b[0mget\u001b[0m\u001b[0;34m(\u001b[0m\u001b[0;34m\"Code\"\u001b[0m\u001b[0;34m)\u001b[0m\u001b[0;34m\u001b[0m\u001b[0;34m\u001b[0m\u001b[0m\n\u001b[1;32m    634\u001b[0m             \u001b[0merror_class\u001b[0m \u001b[0;34m=\u001b[0m \u001b[0mself\u001b[0m\u001b[0;34m.\u001b[0m\u001b[0mexceptions\u001b[0m\u001b[0;34m.\u001b[0m\u001b[0mfrom_code\u001b[0m\u001b[0;34m(\u001b[0m\u001b[0merror_code\u001b[0m\u001b[0;34m)\u001b[0m\u001b[0;34m\u001b[0m\u001b[0;34m\u001b[0m\u001b[0m\n\u001b[0;32m--> 635\u001b[0;31m             \u001b[0;32mraise\u001b[0m \u001b[0merror_class\u001b[0m\u001b[0;34m(\u001b[0m\u001b[0mparsed_response\u001b[0m\u001b[0;34m,\u001b[0m \u001b[0moperation_name\u001b[0m\u001b[0;34m)\u001b[0m\u001b[0;34m\u001b[0m\u001b[0;34m\u001b[0m\u001b[0m\n\u001b[0m\u001b[1;32m    636\u001b[0m         \u001b[0;32melse\u001b[0m\u001b[0;34m:\u001b[0m\u001b[0;34m\u001b[0m\u001b[0;34m\u001b[0m\u001b[0m\n\u001b[1;32m    637\u001b[0m             \u001b[0;32mreturn\u001b[0m \u001b[0mparsed_response\u001b[0m\u001b[0;34m\u001b[0m\u001b[0;34m\u001b[0m\u001b[0m\n",
      "\u001b[0;31mValidationException\u001b[0m: An error occurred (ValidationException) when calling the GetAnalyzedResource operation: Invalid analyzerArn"
     ]
    }
   ],
   "source": [
    "response = client.get_analyzed_resource(\n",
    "    analyzerArn=\"arn:aws:kinesisanalytics:ap-south-1:440616111601:application/DSS_5sStatusMessageLowVoltage\",\n",
    "    resourceArn='arn:aws:kinesis:ap-south-1:440616111601:stream/DSS_5sStatusMessageLowVoltage'\n",
    ")"
   ]
  },
  {
   "cell_type": "code",
   "execution_count": null,
   "metadata": {},
   "outputs": [],
   "source": []
  }
 ],
 "metadata": {
  "kernelspec": {
   "display_name": "conda_python3",
   "language": "python",
   "name": "conda_python3"
  },
  "language_info": {
   "codemirror_mode": {
    "name": "ipython",
    "version": 3
   },
   "file_extension": ".py",
   "mimetype": "text/x-python",
   "name": "python",
   "nbconvert_exporter": "python",
   "pygments_lexer": "ipython3",
   "version": "3.6.10"
  }
 },
 "nbformat": 4,
 "nbformat_minor": 4
}
